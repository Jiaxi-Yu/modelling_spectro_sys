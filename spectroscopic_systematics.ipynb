{
 "cells": [
  {
   "cell_type": "markdown",
   "id": "06527cea",
   "metadata": {},
   "source": [
    "# Implementing spectroscopic systematics"
   ]
  },
  {
   "cell_type": "markdown",
   "id": "790ceff5",
   "metadata": {},
   "source": [
    "## Galaxies in Boxes"
   ]
  },
  {
   "cell_type": "markdown",
   "id": "26b7c8a2",
   "metadata": {},
   "source": [
    "If you have a galaxy mock in a box, you can implement the spectroscopic systematics on the peculiar velocities of model galaxies. "
   ]
  },
  {
   "cell_type": "markdown",
   "id": "b3c33699",
   "metadata": {},
   "source": [
    "1. We want to implement spectroscopic systematics of SDSS LRGs at z=0.9, so we use the code as follows:"
   ]
  },
  {
   "cell_type": "code",
   "execution_count": 1,
   "id": "5977d848",
   "metadata": {},
   "outputs": [],
   "source": [
    "import os\n",
    "import numpy as np\n",
    "from matplotlib import pyplot as plt"
   ]
  },
  {
   "cell_type": "code",
   "execution_count": 2,
   "id": "838d07d2",
   "metadata": {},
   "outputs": [],
   "source": [
    "# generate a galaxy catalogue with 'peculiar velocity' in a 1Gpc/h box\n",
    "np.random.seed(12345)\n",
    "boxsize   = 1000\n",
    "positions = np.random.uniform(0,boxsize,  (100000,3)) # X, Y, Z in Mpc/h\n",
    "velocity  = np.random.normal(-1200,1200,100000) # Gaussian peculiar velocity \n",
    "\n",
    "# list the necessary information\n",
    "redshift  = 0.9\n",
    "size      = len(positions) # the length of the galaxy catalogue\n",
    "source    = 'SDSS' # the source of the systemaitcs measurement\n",
    "geometry  = 'box'  # the geometry of the galaxy mock\n",
    "tracer    = 'LRG'  # the tracer type\n",
    "output    = './Delta_v.txt' # the output name of the velocity"
   ]
  },
  {
   "cell_type": "code",
   "execution_count": 3,
   "id": "f4574d4d",
   "metadata": {},
   "outputs": [
    {
     "data": {
      "text/plain": [
       "0"
      ]
     },
     "execution_count": 3,
     "metadata": {},
     "output_type": "execute_result"
    }
   ],
   "source": [
    "# generate the extra velocity component caused by spectroscopic systematics\n",
    "os.system(f'python spectroscopic_sys_simple.py --redshift {redshift} --size {size} --source {source} --geometry {geometry} --tracer {tracer} --output {output}')"
   ]
  },
  {
   "cell_type": "code",
   "execution_count": 4,
   "id": "e01d3932",
   "metadata": {},
   "outputs": [],
   "source": [
    "# implement the redshift uncertainty on the peculiar velocity\n",
    "Delta_v   = np.loadtxt(output)\n",
    "velocity_ = Delta_v\n",
    "\n",
    "# compute the galaxy position in the redshift space (z-axis is the line-of-sight)\n",
    "## assume LCDM without curvature for the galaxy mock\n",
    "Omega_m   = 0.3175\n",
    "Ode       = 1-Omega_m\n",
    "H         = 100*np.sqrt(Omega_m*(1+redshift)**3+Ode)\n",
    "## compute the z-axis positon in the redshift space\n",
    "Z_RSD     = positions[:,-1]+ velocity_*(1+redshift)/H\n"
   ]
  },
  {
   "cell_type": "code",
   "execution_count": 5,
   "id": "2180defc",
   "metadata": {
    "scrolled": true
   },
   "outputs": [
    {
     "data": {
      "text/plain": [
       "<matplotlib.legend.Legend at 0x73b130dcac70>"
      ]
     },
     "execution_count": 5,
     "metadata": {},
     "output_type": "execute_result"
    },
    {
     "data": {
      "image/png": "[encoded data removed]",
      "text/plain": [
       "<Figure size 432x288 with 1 Axes>"
      ]
     },
     "metadata": {
      "needs_background": "light"
     },
     "output_type": "display_data"
    }
   ],
   "source": [
    "# compare the sampled Delta_v and the model of redshift uncertainty\n",
    "_,bins,_  = plt.hist(Delta_v,label=r'sampled $\\Delta v$',density=True,bins=np.linspace(-400,400,41))\n",
    "mid       = (bins[1:]+bins[:-1])/2    \n",
    "sigma     = 86.1\n",
    "A         = 1/sigma/2.45\n",
    "plt.plot(mid,A*np.exp(-mid**2/2/sigma**2),label='model')\n",
    "plt.legend()"
   ]
  },
  {
   "cell_type": "markdown",
   "id": "260b8cc9",
   "metadata": {},
   "source": [
    "2. We want to generate DESI-ELG-like spectroscopic systematics at z=1.3. The implementation is as follows:"
   ]
  },
  {
   "cell_type": "code",
   "execution_count": 6,
   "id": "796abcb3",
   "metadata": {},
   "outputs": [],
   "source": [
    "# list the necessary information\n",
    "redshift  = 1.3\n",
    "size      = len(positions) # the length of the galaxy catalogue\n",
    "source    = 'DESI' # the source of the systemaitcs measurement\n",
    "geometry  = 'box'  # the geometry of the galaxy mock\n",
    "tracer    = 'ELG'  # the tracer type\n",
    "output    = './Delta_v_ELG.txt' # the output name of the velocity"
   ]
  },
  {
   "cell_type": "code",
   "execution_count": 7,
   "id": "d8c3f81a",
   "metadata": {},
   "outputs": [
    {
     "data": {
      "text/plain": [
       "0"
      ]
     },
     "execution_count": 7,
     "metadata": {},
     "output_type": "execute_result"
    }
   ],
   "source": [
    "# generate the extra velocity component caused by spectroscopic systematics\n",
    "os.system(f'python spectroscopic_sys_simple.py --redshift {redshift} --size {size} --source {source} --geometry {geometry} --tracer {tracer} --output {output}')"
   ]
  },
  {
   "cell_type": "code",
   "execution_count": 8,
   "id": "ba075af8",
   "metadata": {},
   "outputs": [
    {
     "data": {
      "text/plain": [
       "<matplotlib.legend.Legend at 0x73b0d8d006a0>"
      ]
     },
     "execution_count": 8,
     "metadata": {},
     "output_type": "execute_result"
    },
    {
     "data": {
      "image/png": "[encoded data removed]",
      "text/plain": [
       "<Figure size 432x288 with 1 Axes>"
      ]
     },
     "metadata": {
      "needs_background": "light"
     },
     "output_type": "display_data"
    }
   ],
   "source": [
    "# compare the sampled Delta_v and the model of redshift uncertainty\n",
    "Delta_v   = np.loadtxt(output)\n",
    "_,bins,_  = plt.hist(Delta_v[abs(Delta_v)<1000],label=r'sampled $\\Delta v$',density=True,bins=np.linspace(-100,100,41))\n",
    "mid       = (bins[1:]+bins[:-1])/2    \n",
    "sigma     = 13.4\n",
    "A         = 1/sigma/3\n",
    "plt.plot(mid,A/(1+mid**2/sigma**2),label='redshift uncertainty model')\n",
    "plt.legend()"
   ]
  },
  {
   "cell_type": "code",
   "execution_count": 9,
   "id": "18da64e3",
   "metadata": {},
   "outputs": [
    {
     "data": {
      "text/plain": [
       "<matplotlib.legend.Legend at 0x73b0d0ae66d0>"
      ]
     },
     "execution_count": 9,
     "metadata": {},
     "output_type": "execute_result"
    },
    {
     "data": {
      "image/png": "[encoded data removed]",
      "text/plain": [
       "<Figure size 432x288 with 1 Axes>"
      ]
     },
     "metadata": {
      "needs_background": "light"
     },
     "output_type": "display_data"
    }
   ],
   "source": [
    "# compare the sampled Delta_v and the model of catastrophics\n",
    "_,bins,_  = plt.hist(np.log10(abs(Delta_v[abs(Delta_v)>1000])),label=r'sampled $\\Delta v$',density=True,bins=np.linspace(3,6,21))\n",
    "mid       = (bins[1:]+bins[:-1])/2    \n",
    "sigma     = 0.25\n",
    "bias      = 0.64\n",
    "shift     = 6.62\n",
    "A         = 1/np.sqrt(2*np.pi)/sigma\n",
    "plt.plot(mid, A/(-mid+shift)*np.exp(-(np.log((-mid+shift))-bias)**2/(2*sigma**2)),label='catastrophics model')\n",
    "plt.legend()"
   ]
  },
  {
   "cell_type": "markdown",
   "id": "055794e5",
   "metadata": {},
   "source": [
    "3. We want to generate DESI-QSO-like spectroscopic systematics at z=1.8. Note that the values are from its clustering effect, including statistical redshift uncertainty and velocity shift. The implementation is as follows:"
   ]
  },
  {
   "cell_type": "code",
   "execution_count": 10,
   "id": "6bf45c69",
   "metadata": {},
   "outputs": [],
   "source": [
    "# list the necessary information\n",
    "redshift  = 1.8\n",
    "size      = len(positions) # the length of the galaxy catalogue\n",
    "source    = 'DESI' # the source of the systemaitcs measurement\n",
    "geometry  = 'box'  # the geometry of the galaxy mock\n",
    "tracer    = 'QSO'  # the tracer type\n",
    "output    = './Delta_v_QSO.txt' # the output name of the velocity"
   ]
  },
  {
   "cell_type": "code",
   "execution_count": 11,
   "id": "65e91664",
   "metadata": {},
   "outputs": [
    {
     "data": {
      "text/plain": [
       "0"
      ]
     },
     "execution_count": 11,
     "metadata": {},
     "output_type": "execute_result"
    }
   ],
   "source": [
    "# generate the extra velocity component caused by spectroscopic systematics\n",
    "os.system(f'python spectroscopic_sys_simple.py --redshift {redshift} --size {size} --source {source} --geometry {geometry} --tracer {tracer} --output {output}')"
   ]
  },
  {
   "cell_type": "code",
   "execution_count": 12,
   "id": "00d33684",
   "metadata": {},
   "outputs": [
    {
     "data": {
      "text/plain": [
       "<matplotlib.legend.Legend at 0x73b0d0a0b370>"
      ]
     },
     "execution_count": 12,
     "metadata": {},
     "output_type": "execute_result"
    },
    {
     "data": {
      "image/png": "[encoded data removed]",
      "text/plain": [
       "<Figure size 432x288 with 1 Axes>"
      ]
     },
     "metadata": {
      "needs_background": "light"
     },
     "output_type": "display_data"
    }
   ],
   "source": [
    "# compare the sampled Delta_v and the model of redshift uncertainty\n",
    "Delta_v   = np.loadtxt(output)\n",
    "_,bins,_  = plt.hist(Delta_v,label=r'sampled $\\Delta v$',density=True,bins=np.linspace(-2000,2000,401))\n",
    "mid       = (bins[1:]+bins[:-1])/2    \n",
    "sigma     = 273\n",
    "A         = 1/sigma/3\n",
    "plt.plot(mid,A/(1+mid**2/sigma**2),label='model')\n",
    "plt.legend()"
   ]
  },
  {
   "cell_type": "code",
   "execution_count": null,
   "id": "fea1c142",
   "metadata": {},
   "outputs": [],
   "source": []
  }
 ],
 "metadata": {
  "kernelspec": {
   "display_name": "Python 3",
   "language": "python",
   "name": "python3"
  },
  "language_info": {
   "codemirror_mode": {
    "name": "ipython",
    "version": 3
   },
   "file_extension": ".py",
   "mimetype": "text/x-python",
   "name": "python",
   "nbconvert_exporter": "python",
   "pygments_lexer": "ipython3",
   "version": "3.9.1"
  }
 },
 "nbformat": 4,
 "nbformat_minor": 5
}
